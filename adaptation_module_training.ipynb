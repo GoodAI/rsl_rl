{
 "cells": [
  {
   "cell_type": "code",
   "execution_count": 1,
   "id": "7015d70a",
   "metadata": {},
   "outputs": [],
   "source": [
    "import torch\n",
    "import torch.nn as nn\n",
    "import torch.nn.functional as F\n",
    "from torchsummary import summary\n",
    "import numpy as np\n",
    "import matplotlib.pyplot as plt\n",
    "import pandas as pd\n",
    "from torch.utils.data import DataLoader, Dataset\n",
    "from torchvision.transforms import ToTensor\n",
    "import torch.optim as optim"
   ]
  },
  {
   "cell_type": "code",
   "execution_count": 2,
   "id": "7c2da801",
   "metadata": {},
   "outputs": [],
   "source": [
    "df = pd.DataFrame()"
   ]
  },
  {
   "cell_type": "code",
   "execution_count": 3,
   "id": "a2d00400",
   "metadata": {},
   "outputs": [],
   "source": [
    "for i in range(1):\n",
    "    df = pd.concat((df, pd.read_pickle(f\"training_data.hkl.zip\")), ignore_index=True)"
   ]
  },
  {
   "cell_type": "code",
   "execution_count": 4,
   "id": "6407a5f4",
   "metadata": {},
   "outputs": [],
   "source": [
    "class RMADataset(Dataset):\n",
    "    def __init__(self, df, envs=50, prev_actions=20):\n",
    "        self.data = df\n",
    "        self.envs = envs\n",
    "        self.prev_actions = prev_actions\n",
    "        \n",
    "    def __len__(self):\n",
    "        return len(self.data)\n",
    "\n",
    "    def get_row_data(self, idx):\n",
    "        loc = self.data.iloc[idx]\n",
    "        label = loc[\"extrinsics\"]\n",
    "        actions = loc[\"actions\"]\n",
    "        xt = loc[\"X\"]\n",
    "        orientation = loc[\"orientation\"]\n",
    "        \n",
    "        return label, actions, xt, orientation\n",
    "    \n",
    "    def __getitem__(self, idx):\n",
    "        label, actions, xt, orientation = self.get_row_data(idx)\n",
    "        \n",
    "        input_len = len(actions) + len(xt) + len(orientation)\n",
    "        # placeholder prefilled with zeros\n",
    "        data = [0.0] * self.prev_actions * input_len\n",
    "        data[0:input_len] = actions + xt + orientation\n",
    "        start_id = input_len\n",
    "\n",
    "        for next_idx in range(idx - self.envs, max(0, idx - (self.prev_actions -1) * self.envs), -self.envs):\n",
    "            _, actions, xt, orientation = self.get_row_data(next_idx)\n",
    "            data[start_id:start_id + input_len] = actions + xt + orientation\n",
    "            start_id += input_len\n",
    "        \n",
    "        return torch.tensor(label), torch.tensor([data])\n",
    "        "
   ]
  },
  {
   "cell_type": "code",
   "execution_count": 5,
   "id": "cdb25ced",
   "metadata": {},
   "outputs": [],
   "source": [
    "dataset = RMADataset(df)"
   ]
  },
  {
   "cell_type": "code",
   "execution_count": 6,
   "id": "4820d65e",
   "metadata": {},
   "outputs": [
    {
     "data": {
      "text/plain": [
       "torch.Size([1, 780])"
      ]
     },
     "execution_count": 6,
     "metadata": {},
     "output_type": "execute_result"
    }
   ],
   "source": [
    "l, d = dataset[50]\n",
    "d.shape"
   ]
  },
  {
   "cell_type": "code",
   "execution_count": 7,
   "id": "5f8fb67a",
   "metadata": {},
   "outputs": [],
   "source": [
    "class Net(nn.Module):\n",
    "    def __init__(self):\n",
    "        super().__init__()\n",
    "        conv1 = nn.Conv1d(1, 32, 3, stride=3)\n",
    "        conv2 = nn.Conv1d(32, 64, 5, stride=3)\n",
    "        conv3 = nn.Conv1d(64, 128, 5, stride=2)\n",
    "\n",
    "        conv4 = nn.Conv1d(128, 64, 7, stride=2)\n",
    "        conv5 = nn.Conv1d(64, 64, 5, stride=2)\n",
    "        conv6 = nn.Conv1d(64, 32, 5, stride=1)\n",
    "        conv7 = nn.Conv1d(32, 32, 3, stride=1)\n",
    "        \n",
    "        self.layers = nn.Sequential(conv1, nn.BatchNorm1d(32), nn.ReLU(),\n",
    "                                    conv2, nn.BatchNorm1d(64), nn.ReLU(),\n",
    "                                    conv3, nn.BatchNorm1d(128), nn.ReLU(),\n",
    "                                    conv4, nn.BatchNorm1d(64), nn.ReLU(),\n",
    "                                    conv5, nn.BatchNorm1d(64), nn.ReLU(),\n",
    "                                    conv6, nn.BatchNorm1d(32), nn.ReLU(),\n",
    "                                    conv7, nn.Flatten())\n",
    "\n",
    "    def forward(self, x):\n",
    "        x = self.layers(x)\n",
    "        return x\n",
    "\n",
    "net = Net()"
   ]
  },
  {
   "cell_type": "code",
   "execution_count": 8,
   "id": "5efafaec",
   "metadata": {},
   "outputs": [
    {
     "name": "stdout",
     "output_type": "stream",
     "text": [
      "----------------------------------------------------------------\n",
      "        Layer (type)               Output Shape         Param #\n",
      "================================================================\n",
      "            Conv1d-1              [-1, 32, 260]             128\n",
      "       BatchNorm1d-2              [-1, 32, 260]              64\n",
      "              ReLU-3              [-1, 32, 260]               0\n",
      "            Conv1d-4               [-1, 64, 86]          10,304\n",
      "       BatchNorm1d-5               [-1, 64, 86]             128\n",
      "              ReLU-6               [-1, 64, 86]               0\n",
      "            Conv1d-7              [-1, 128, 41]          41,088\n",
      "       BatchNorm1d-8              [-1, 128, 41]             256\n",
      "              ReLU-9              [-1, 128, 41]               0\n",
      "           Conv1d-10               [-1, 64, 18]          57,408\n",
      "      BatchNorm1d-11               [-1, 64, 18]             128\n",
      "             ReLU-12               [-1, 64, 18]               0\n",
      "           Conv1d-13                [-1, 64, 7]          20,544\n",
      "      BatchNorm1d-14                [-1, 64, 7]             128\n",
      "             ReLU-15                [-1, 64, 7]               0\n",
      "           Conv1d-16                [-1, 32, 3]          10,272\n",
      "      BatchNorm1d-17                [-1, 32, 3]              64\n",
      "             ReLU-18                [-1, 32, 3]               0\n",
      "           Conv1d-19                [-1, 32, 1]           3,104\n",
      "          Flatten-20                   [-1, 32]               0\n",
      "================================================================\n",
      "Total params: 143,616\n",
      "Trainable params: 143,616\n",
      "Non-trainable params: 0\n",
      "----------------------------------------------------------------\n",
      "Input size (MB): 0.00\n",
      "Forward/backward pass size (MB): 0.48\n",
      "Params size (MB): 0.55\n",
      "Estimated Total Size (MB): 1.03\n",
      "----------------------------------------------------------------\n"
     ]
    }
   ],
   "source": [
    "summary(net, (1, 780), device=\"cpu\")"
   ]
  },
  {
   "cell_type": "code",
   "execution_count": 9,
   "id": "99025672",
   "metadata": {},
   "outputs": [],
   "source": [
    "device = torch.device('cuda:0' if torch.cuda.is_available() else 'cpu')\n",
    "net.to(device)\n",
    "dataloader = DataLoader(dataset, batch_size=750, shuffle=True, num_workers=16, pin_memory=True)"
   ]
  },
  {
   "cell_type": "code",
   "execution_count": 10,
   "id": "55a2c99a",
   "metadata": {},
   "outputs": [],
   "source": [
    "criterion = nn.MSELoss()\n",
    "optimizer = optim.Adam(net.parameters(), lr=0.001)"
   ]
  },
  {
   "cell_type": "code",
   "execution_count": 11,
   "id": "3b77944f",
   "metadata": {
    "scrolled": true
   },
   "outputs": [
    {
     "name": "stdout",
     "output_type": "stream",
     "text": [
      "Epoch 0 loss: 0.757495257537812\n",
      "Epoch 1 loss: 0.26722390833310783\n",
      "Epoch 2 loss: 0.20453171175904572\n",
      "Epoch 3 loss: 0.17171470099128783\n",
      "Epoch 4 loss: 0.15051976405084133\n",
      "Epoch 5 loss: 0.134312309557572\n",
      "Epoch 6 loss: 0.12206238997168839\n",
      "Epoch 7 loss: 0.1114116805838421\n",
      "Epoch 8 loss: 0.10211934265680611\n",
      "Epoch 9 loss: 0.09581702668219805\n",
      "Epoch 10 loss: 0.08916688617318869\n",
      "Epoch 11 loss: 0.08458455698564649\n",
      "Epoch 12 loss: 0.07851323310751468\n",
      "Epoch 13 loss: 0.0741229047998786\n",
      "Epoch 14 loss: 0.07154082698980346\n",
      "Epoch 15 loss: 0.06844137888401747\n",
      "Epoch 16 loss: 0.06458885793108493\n",
      "Epoch 17 loss: 0.0619288042653352\n",
      "Epoch 18 loss: 0.05819810589309782\n",
      "Epoch 19 loss: 0.05717500182799995\n",
      "Finished Training 0.05717500182799995\n"
     ]
    }
   ],
   "source": [
    "for epoch in range(20):  # loop over the dataset multiple times\n",
    "    running_loss = 0.0\n",
    "    for i, data in enumerate(dataloader, 0):\n",
    "        # get the inputs; data is a list of [inputs, labels]\n",
    "        \n",
    "        labels, inputs = data\n",
    "        labels = labels.to(device)\n",
    "        inputs = inputs.to(device)\n",
    "\n",
    "        # zero the parameter gradients\n",
    "        optimizer.zero_grad()\n",
    "\n",
    "        # forward + backward + optimize\n",
    "        outputs = net(inputs)\n",
    "        loss = criterion(outputs, labels)\n",
    "        loss.backward()\n",
    "        optimizer.step()\n",
    "\n",
    "        # print statistics\n",
    "        running_loss += loss.item()\n",
    "        if i % 200 == 199:\n",
    "            print(f'[{epoch + 1}, {i + 1:5d}] loss: {running_loss / 200:.3f}')\n",
    "            running_loss = 0.0\n",
    "    print(f'Epoch {epoch} loss: {running_loss}')\n",
    "    torch.save(net.state_dict(), f\"adaptation_module_{epoch}.pth\")\n",
    "print(f'Finished Training {running_loss}')"
   ]
  },
  {
   "cell_type": "code",
   "execution_count": null,
   "id": "a0adfeab",
   "metadata": {},
   "outputs": [],
   "source": []
  }
 ],
 "metadata": {
  "kernelspec": {
   "display_name": "Python 3 (ipykernel)",
   "language": "python",
   "name": "python3"
  },
  "language_info": {
   "codemirror_mode": {
    "name": "ipython",
    "version": 3
   },
   "file_extension": ".py",
   "mimetype": "text/x-python",
   "name": "python",
   "nbconvert_exporter": "python",
   "pygments_lexer": "ipython3",
   "version": "3.8.10"
  }
 },
 "nbformat": 4,
 "nbformat_minor": 5
}
